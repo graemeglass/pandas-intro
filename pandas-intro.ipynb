{
 "cells": [
  {
   "cell_type": "markdown",
   "metadata": {
    "slideshow": {
     "slide_type": "slide"
    }
   },
   "source": [
    "# Intro to Pandas\n",
    "http://pandas.pydata.org/"
   ]
  },
  {
   "cell_type": "code",
   "execution_count": null,
   "metadata": {
    "collapsed": false,
    "slideshow": {
     "slide_type": "slide"
    }
   },
   "outputs": [],
   "source": [
    "from IPython.display import Image\n",
    "Image(url='panda1.jpg')"
   ]
  },
  {
   "cell_type": "markdown",
   "metadata": {
    "slideshow": {
     "slide_type": "slide"
    }
   },
   "source": [
    "# Contents\n",
    "1. What is Pandas\n",
    "2. Why Pandas\n",
    "3. Datatypes\n",
    "4. Getting data into Pandas\n",
    "5. Merging dataframes\n",
    "6. Getting subsets of your data (slicing, etc)\n",
    "7. Plotting"
   ]
  },
  {
   "cell_type": "markdown",
   "metadata": {},
   "source": [
    "# What is Pandas\n",
    "\n",
    "\"...fast, easy-to-use data wrangling and statistical computing tool...\"\n",
    "\n",
    "I like to think of it as a *dict like object* that can queried in additional SQL-y kind of way. \n",
    "A bit like a Django Model instance.\n",
    "\n",
    "Created by Wes McKinney in 2007.\n",
    "\n",
    "Built on top of NumPy\n",
    "\n",
    "DataFrame heavily influenced by R DataFrame"
   ]
  },
  {
   "cell_type": "markdown",
   "metadata": {},
   "source": [
    "# Why Pandas\n",
    "\n",
    "Because R ![Scream](scream.png \"R\")"
   ]
  },
  {
   "cell_type": "markdown",
   "metadata": {},
   "source": [
    "# Datatypes\n",
    "\n",
    "1.\t**Series**:\t    1D labeled homogeneously-typed array [1,2,3,4,5] \n",
    "2.\t**DataFrame**:\tGeneral 2D labeled, size-mutable tabular structure with potentially heterogeneously-typed columns\n",
    "3.\t**Panel**:\t    General 3D labeled, also size-mutable array **(not going to be covered in this talk)**\n",
    "\n",
    "*'...The best way to think about the pandas data structures is as flexible containers for lower dimensional data. For example, DataFrame is a container for Series, and Panel is a container for DataFrame objects. We would like to be able to insert and remove objects from these containers in a dictionary-like fashion.'*\n"
   ]
  },
  {
   "cell_type": "markdown",
   "metadata": {},
   "source": [
    "# Series"
   ]
  },
  {
   "cell_type": "code",
   "execution_count": null,
   "metadata": {
    "collapsed": false
   },
   "outputs": [],
   "source": [
    "import pandas as pd"
   ]
  },
  {
   "cell_type": "code",
   "execution_count": null,
   "metadata": {
    "collapsed": false
   },
   "outputs": [],
   "source": [
    "# a scalar value\n",
    "pd.Series(1)"
   ]
  },
  {
   "cell_type": "code",
   "execution_count": null,
   "metadata": {
    "collapsed": false
   },
   "outputs": [],
   "source": [
    "a = pd.Series([1,2,3,6,7,9])\n",
    "print(a)\n",
    "# Accessing elements\n",
    "# Index look up, Element 0th, 1st element\n",
    "a[0]\n",
    "# Using a mask !We'll be coming back to this, it's a biggy\n",
    "a[a > 6]"
   ]
  },
  {
   "cell_type": "code",
   "execution_count": null,
   "metadata": {
    "collapsed": false
   },
   "outputs": [],
   "source": [
    "a = pd.Series(range(4), index=('a', 'b', 'c', 'd'))\n",
    "a['c']"
   ]
  },
  {
   "cell_type": "code",
   "execution_count": null,
   "metadata": {
    "collapsed": false
   },
   "outputs": [],
   "source": [
    "data = {'a' : 0., 'b' : 1., 'c' : 2.}\n",
    "a = pd.Series(data)\n",
    "print(a)\n",
    "print(a.b)\n",
    "print(a['c'])\n",
    "print(a[1:])"
   ]
  },
  {
   "cell_type": "code",
   "execution_count": null,
   "metadata": {
    "collapsed": false
   },
   "outputs": [],
   "source": [
    "#Why no error? I thought series where 'homogeneous'\n",
    "pd.Series(['1', 3, 'c'])"
   ]
  },
  {
   "cell_type": "markdown",
   "metadata": {},
   "source": [
    "They are :-) Look at the dtype, it's all the same type, an object type"
   ]
  },
  {
   "cell_type": "markdown",
   "metadata": {},
   "source": [
    "Pandas is built on top of numpy, we should look into that..."
   ]
  },
  {
   "cell_type": "code",
   "execution_count": null,
   "metadata": {
    "collapsed": false
   },
   "outputs": [],
   "source": [
    "import numpy as np\n",
    "a = pd.Series(np.random.randn(5))\n",
    "print(a)"
   ]
  },
  {
   "cell_type": "code",
   "execution_count": null,
   "metadata": {
    "collapsed": false
   },
   "outputs": [],
   "source": [
    "a.sum()"
   ]
  },
  {
   "cell_type": "code",
   "execution_count": null,
   "metadata": {
    "collapsed": false
   },
   "outputs": [],
   "source": [
    "a.median()"
   ]
  },
  {
   "cell_type": "code",
   "execution_count": null,
   "metadata": {
    "collapsed": false
   },
   "outputs": [],
   "source": [
    "a.count()"
   ]
  },
  {
   "cell_type": "markdown",
   "metadata": {},
   "source": [
    "Series acts very similarly to a ndarray, and is a valid argument to most NumPy functions"
   ]
  },
  {
   "cell_type": "code",
   "execution_count": null,
   "metadata": {
    "collapsed": false
   },
   "outputs": [],
   "source": [
    "a.append(3) # Error"
   ]
  },
  {
   "cell_type": "markdown",
   "metadata": {},
   "source": [
    "Told you they were homogeneous"
   ]
  },
  {
   "cell_type": "code",
   "execution_count": null,
   "metadata": {
    "collapsed": false
   },
   "outputs": [],
   "source": [
    "a = a.append(pd.Series([99,100,22], index=('what', 'the', 'magic')))"
   ]
  },
  {
   "cell_type": "code",
   "execution_count": null,
   "metadata": {
    "collapsed": false
   },
   "outputs": [],
   "source": [
    "a.magic"
   ]
  },
  {
   "cell_type": "code",
   "execution_count": null,
   "metadata": {
    "collapsed": false
   },
   "outputs": [],
   "source": [
    "a.index"
   ]
  },
  {
   "cell_type": "markdown",
   "metadata": {},
   "source": [
    "# Getting data into Pandas\n",
    "\n",
    "* **read_csv**\n",
    "* read_excel\n",
    "* read_hdf\n",
    "* read_sql\n",
    "* read_json\n",
    "* read_html\n",
    "* read_stata\n",
    "* read_sas\n",
    "* read_clipboard\n",
    "* read_pickle"
   ]
  },
  {
   "cell_type": "markdown",
   "metadata": {},
   "source": [
    "# DataFrame"
   ]
  },
  {
   "cell_type": "code",
   "execution_count": 96,
   "metadata": {
    "collapsed": false
   },
   "outputs": [
    {
     "data": {
      "text/html": [
       "<div>\n",
       "<table border=\"1\" class=\"dataframe\">\n",
       "  <thead>\n",
       "    <tr style=\"text-align: right;\">\n",
       "      <th></th>\n",
       "      <th>id</th>\n",
       "      <th>first_name</th>\n",
       "      <th>last_name</th>\n",
       "      <th>ship</th>\n",
       "      <th>email</th>\n",
       "    </tr>\n",
       "  </thead>\n",
       "  <tbody>\n",
       "    <tr>\n",
       "      <th>0</th>\n",
       "      <td>1</td>\n",
       "      <td>Jean-Luc</td>\n",
       "      <td>Picard</td>\n",
       "      <td>Enterprise</td>\n",
       "      <td>locutus.2366@enterprise.subspace</td>\n",
       "    </tr>\n",
       "    <tr>\n",
       "      <th>1</th>\n",
       "      <td>2</td>\n",
       "      <td>Geordi</td>\n",
       "      <td>La Forge</td>\n",
       "      <td>Enterprise</td>\n",
       "      <td>reading.rainbow@enterprise.subspace</td>\n",
       "    </tr>\n",
       "    <tr>\n",
       "      <th>2</th>\n",
       "      <td>3</td>\n",
       "      <td>Kathryn</td>\n",
       "      <td>Janeway</td>\n",
       "      <td>Voyager</td>\n",
       "      <td>cap.delta.q@voyager.subspace</td>\n",
       "    </tr>\n",
       "    <tr>\n",
       "      <th>3</th>\n",
       "      <td>4</td>\n",
       "      <td>B'Elanna</td>\n",
       "      <td>Torres</td>\n",
       "      <td>Voyager</td>\n",
       "      <td>warp.drives.rule@voyager.subspace</td>\n",
       "    </tr>\n",
       "    <tr>\n",
       "      <th>4</th>\n",
       "      <td>5</td>\n",
       "      <td>Benjamin</td>\n",
       "      <td>Sisko</td>\n",
       "      <td>DS9</td>\n",
       "      <td>shut.up.quark@ds9.subspace</td>\n",
       "    </tr>\n",
       "    <tr>\n",
       "      <th>5</th>\n",
       "      <td>6</td>\n",
       "      <td>Kira</td>\n",
       "      <td>Nerys</td>\n",
       "      <td>DS9</td>\n",
       "      <td>cardassian.scum@ds9.subspace</td>\n",
       "    </tr>\n",
       "  </tbody>\n",
       "</table>\n",
       "</div>"
      ],
      "text/plain": [
       "   id first_name last_name        ship                                email\n",
       "0   1   Jean-Luc    Picard  Enterprise     locutus.2366@enterprise.subspace\n",
       "1   2     Geordi  La Forge  Enterprise  reading.rainbow@enterprise.subspace\n",
       "2   3    Kathryn   Janeway     Voyager         cap.delta.q@voyager.subspace\n",
       "3   4   B'Elanna    Torres     Voyager    warp.drives.rule@voyager.subspace\n",
       "4   5   Benjamin     Sisko         DS9           shut.up.quark@ds9.subspace\n",
       "5   6       Kira     Nerys         DS9         cardassian.scum@ds9.subspace"
      ]
     },
     "execution_count": 96,
     "metadata": {},
     "output_type": "execute_result"
    }
   ],
   "source": [
    "users = [(1, \"Jean-Luc\", \"Picard\", \"Enterprise\", \"locutus.2366@enterprise.subspace\"), \n",
    "         (2, \"Geordi\", \"La Forge\", \"Enterprise\", \"reading.rainbow@enterprise.subspace\"), \n",
    "         (3, \"Kathryn\", \"Janeway\", \"Voyager\", \"cap.delta.q@voyager.subspace\"), \n",
    "         (4, \"B'Elanna\", \"Torres\", \"Voyager\", \"warp.drives.rule@voyager.subspace\"),\n",
    "         (5, \"Benjamin\", \"Sisko\", \"DS9\", \"shut.up.quark@ds9.subspace\"),\n",
    "         (6, \"Kira\", \"Nerys\", \"DS9\", \"cardassian.scum@ds9.subspace\")\n",
    "         ]\n",
    "\n",
    "users = pd.DataFrame(users, columns=['id', 'first_name', 'last_name', 'ship', 'email'])\n",
    "users"
   ]
  },
  {
   "cell_type": "code",
   "execution_count": 43,
   "metadata": {
    "collapsed": false
   },
   "outputs": [
    {
     "data": {
      "text/html": [
       "<div>\n",
       "<table border=\"1\" class=\"dataframe\">\n",
       "  <thead>\n",
       "    <tr style=\"text-align: right;\">\n",
       "      <th></th>\n",
       "      <th>FirstName</th>\n",
       "      <th>LastName</th>\n",
       "      <th>Ship</th>\n",
       "      <th>Email</th>\n",
       "    </tr>\n",
       "    <tr>\n",
       "      <th>ID</th>\n",
       "      <th></th>\n",
       "      <th></th>\n",
       "      <th></th>\n",
       "      <th></th>\n",
       "    </tr>\n",
       "  </thead>\n",
       "  <tbody>\n",
       "    <tr>\n",
       "      <th>1</th>\n",
       "      <td>Jean-Luc</td>\n",
       "      <td>Picard</td>\n",
       "      <td>Enterprise</td>\n",
       "      <td>locutus.2366@enterprise.subspace</td>\n",
       "    </tr>\n",
       "    <tr>\n",
       "      <th>2</th>\n",
       "      <td>Geordi</td>\n",
       "      <td>La Forge</td>\n",
       "      <td>Enterprise</td>\n",
       "      <td>reading.rainbow@enterprise.subspace</td>\n",
       "    </tr>\n",
       "    <tr>\n",
       "      <th>3</th>\n",
       "      <td>Kathryn</td>\n",
       "      <td>Janeway</td>\n",
       "      <td>Voyager</td>\n",
       "      <td>cap.delta.q@voyager.subspace</td>\n",
       "    </tr>\n",
       "    <tr>\n",
       "      <th>4</th>\n",
       "      <td>B'Elanna</td>\n",
       "      <td>Torres</td>\n",
       "      <td>Voyager</td>\n",
       "      <td>warp.drives.rule@voyager.subspace</td>\n",
       "    </tr>\n",
       "    <tr>\n",
       "      <th>5</th>\n",
       "      <td>Benjamin</td>\n",
       "      <td>Sisko</td>\n",
       "      <td>DS9</td>\n",
       "      <td>shut.up.quark@ds9.subspace</td>\n",
       "    </tr>\n",
       "    <tr>\n",
       "      <th>6</th>\n",
       "      <td>Kira</td>\n",
       "      <td>Nerys</td>\n",
       "      <td>DS9</td>\n",
       "      <td>cardassian.scum@ds9.subspace</td>\n",
       "    </tr>\n",
       "  </tbody>\n",
       "</table>\n",
       "</div>"
      ],
      "text/plain": [
       "   FirstName  LastName        Ship                                Email\n",
       "ID                                                                     \n",
       "1   Jean-Luc    Picard  Enterprise     locutus.2366@enterprise.subspace\n",
       "2     Geordi  La Forge  Enterprise  reading.rainbow@enterprise.subspace\n",
       "3    Kathryn   Janeway     Voyager         cap.delta.q@voyager.subspace\n",
       "4   B'Elanna    Torres     Voyager    warp.drives.rule@voyager.subspace\n",
       "5   Benjamin     Sisko         DS9           shut.up.quark@ds9.subspace\n",
       "6       Kira     Nerys         DS9         cardassian.scum@ds9.subspace"
      ]
     },
     "execution_count": 43,
     "metadata": {},
     "output_type": "execute_result"
    }
   ],
   "source": [
    "users.set_index('ID')"
   ]
  },
  {
   "cell_type": "code",
   "execution_count": 67,
   "metadata": {
    "collapsed": false
   },
   "outputs": [],
   "source": [
    "import csv\n",
    "from uuid import uuid4\n",
    "from datetime import datetime, timedelta\n",
    "from random import randrange, choice, randint\n",
    "\n",
    "def random_date(start, end):\n",
    "    \"\"\"\n",
    "    http://stackoverflow.com/a/553448\n",
    "    This function will return a random datetime between two datetime \n",
    "    objects.\n",
    "    \"\"\"\n",
    "    delta = end - start\n",
    "    int_delta = (delta.days * 24 * 60 * 60) + delta.seconds\n",
    "    random_second = randrange(int_delta)\n",
    "    return start + timedelta(seconds=random_second)\n",
    "\n",
    "_end_date = datetime.now()\n",
    "_start_date = end_date - timedelta(weeks=300)\n",
    "\n",
    "available_numbers = ['55500001', '55500002', '55500003', '55500004', '55500005', \n",
    "                     '55500006', '55500007']\n",
    "\n",
    "\n",
    "with open('cdrs.csv', 'w', newline='') as csvfile:\n",
    "    cdrwriter = csv.writer(csvfile, delimiter=',')\n",
    "    cdrwriter.writerow('id,uuid,caller_number,destination_number,context,start_stamp,end_stamp,duration,billsec,hangup_cause,accountcode,read_codec,user_id'.split(','))\n",
    "\n",
    "    for _cdr_count in range(1, 10001):\n",
    "        _cdr_start_dtstamp = random_date(_start_date, _end_date)\n",
    "        _call_duration = randint(0, 1000)\n",
    "        billsec = _call_duration - 5 if (_call_duration - 5) >= 0 else 0\n",
    "\n",
    "        if billsec == 0: \n",
    "            hangup_cause = 'No Anwser'\n",
    "        else: \n",
    "            hangup_cause = 'Anwser'\n",
    "\n",
    "        _cdr_end_dtstamp = _cdr_start_dtstamp + timedelta(seconds=_call_duration)\n",
    "\n",
    "        user_id = randint(1,6)\n",
    "        cdrwriter.writerow([_cdr_count, uuid4(), choice(available_numbers), choice(available_numbers), 'FUTILE', _cdr_start_dtstamp, _cdr_end_dtstamp, _call_duration, billsec, hangup_cause, 'Blah', 'Whoop', user_id])\n"
   ]
  },
  {
   "cell_type": "code",
   "execution_count": 68,
   "metadata": {
    "collapsed": false
   },
   "outputs": [
    {
     "data": {
      "text/html": [
       "<div>\n",
       "<table border=\"1\" class=\"dataframe\">\n",
       "  <thead>\n",
       "    <tr style=\"text-align: right;\">\n",
       "      <th></th>\n",
       "      <th>id</th>\n",
       "      <th>uuid</th>\n",
       "      <th>caller_number</th>\n",
       "      <th>destination_number</th>\n",
       "      <th>context</th>\n",
       "      <th>start_stamp</th>\n",
       "      <th>end_stamp</th>\n",
       "      <th>duration</th>\n",
       "      <th>billsec</th>\n",
       "      <th>hangup_cause</th>\n",
       "      <th>accountcode</th>\n",
       "      <th>read_codec</th>\n",
       "      <th>user_id</th>\n",
       "    </tr>\n",
       "  </thead>\n",
       "  <tbody>\n",
       "    <tr>\n",
       "      <th>0</th>\n",
       "      <td>1</td>\n",
       "      <td>7a7af69c-29d3-4651-93be-6a0582270955</td>\n",
       "      <td>55500007</td>\n",
       "      <td>55500003</td>\n",
       "      <td>FUTILE</td>\n",
       "      <td>2015-08-25 04:49:00.190694</td>\n",
       "      <td>2015-08-25 04:59:10.190694</td>\n",
       "      <td>610</td>\n",
       "      <td>605</td>\n",
       "      <td>Anwser</td>\n",
       "      <td>Blah</td>\n",
       "      <td>Whoop</td>\n",
       "      <td>3</td>\n",
       "    </tr>\n",
       "    <tr>\n",
       "      <th>1</th>\n",
       "      <td>2</td>\n",
       "      <td>9ff4db80-a25e-4668-8668-7c4bc0107ec2</td>\n",
       "      <td>55500005</td>\n",
       "      <td>55500004</td>\n",
       "      <td>FUTILE</td>\n",
       "      <td>2011-01-11 02:04:09.190694</td>\n",
       "      <td>2011-01-11 02:08:29.190694</td>\n",
       "      <td>260</td>\n",
       "      <td>255</td>\n",
       "      <td>Anwser</td>\n",
       "      <td>Blah</td>\n",
       "      <td>Whoop</td>\n",
       "      <td>6</td>\n",
       "    </tr>\n",
       "    <tr>\n",
       "      <th>2</th>\n",
       "      <td>3</td>\n",
       "      <td>20c4483f-9404-4171-80cc-7d1f3bda28d0</td>\n",
       "      <td>55500007</td>\n",
       "      <td>55500006</td>\n",
       "      <td>FUTILE</td>\n",
       "      <td>2014-07-06 20:00:59.190694</td>\n",
       "      <td>2014-07-06 20:07:43.190694</td>\n",
       "      <td>404</td>\n",
       "      <td>399</td>\n",
       "      <td>Anwser</td>\n",
       "      <td>Blah</td>\n",
       "      <td>Whoop</td>\n",
       "      <td>5</td>\n",
       "    </tr>\n",
       "  </tbody>\n",
       "</table>\n",
       "</div>"
      ],
      "text/plain": [
       "   id                                  uuid  caller_number  \\\n",
       "0   1  7a7af69c-29d3-4651-93be-6a0582270955       55500007   \n",
       "1   2  9ff4db80-a25e-4668-8668-7c4bc0107ec2       55500005   \n",
       "2   3  20c4483f-9404-4171-80cc-7d1f3bda28d0       55500007   \n",
       "\n",
       "   destination_number context                 start_stamp  \\\n",
       "0            55500003  FUTILE  2015-08-25 04:49:00.190694   \n",
       "1            55500004  FUTILE  2011-01-11 02:04:09.190694   \n",
       "2            55500006  FUTILE  2014-07-06 20:00:59.190694   \n",
       "\n",
       "                    end_stamp  duration  billsec hangup_cause accountcode  \\\n",
       "0  2015-08-25 04:59:10.190694       610      605       Anwser        Blah   \n",
       "1  2011-01-11 02:08:29.190694       260      255       Anwser        Blah   \n",
       "2  2014-07-06 20:07:43.190694       404      399       Anwser        Blah   \n",
       "\n",
       "  read_codec  user_id  \n",
       "0      Whoop        3  \n",
       "1      Whoop        6  \n",
       "2      Whoop        5  "
      ]
     },
     "execution_count": 68,
     "metadata": {},
     "output_type": "execute_result"
    }
   ],
   "source": [
    "import pandas as pd\n",
    "_cdr = pd.read_csv('cdrs.csv')\n",
    "_cdr.head(3)"
   ]
  },
  {
   "cell_type": "code",
   "execution_count": 69,
   "metadata": {
    "collapsed": false
   },
   "outputs": [
    {
     "data": {
      "text/html": [
       "<div>\n",
       "<table border=\"1\" class=\"dataframe\">\n",
       "  <thead>\n",
       "    <tr style=\"text-align: right;\">\n",
       "      <th></th>\n",
       "      <th>id</th>\n",
       "      <th>...</th>\n",
       "    </tr>\n",
       "  </thead>\n",
       "  <tbody>\n",
       "    <tr>\n",
       "      <th>0</th>\n",
       "      <td>1</td>\n",
       "      <td>...</td>\n",
       "    </tr>\n",
       "    <tr>\n",
       "      <th>1</th>\n",
       "      <td>2</td>\n",
       "      <td>...</td>\n",
       "    </tr>\n",
       "  </tbody>\n",
       "</table>\n",
       "<p>2 rows × 13 columns</p>\n",
       "</div>"
      ],
      "text/plain": [
       "   id ...\n",
       "0   1 ...\n",
       "1   2 ...\n",
       "\n",
       "[2 rows x 13 columns]"
      ]
     },
     "execution_count": 69,
     "metadata": {},
     "output_type": "execute_result"
    }
   ],
   "source": [
    "pd.set_option('display.max_columns', 1)\n",
    "_cdr.head(2)"
   ]
  },
  {
   "cell_type": "code",
   "execution_count": 71,
   "metadata": {
    "collapsed": false
   },
   "outputs": [
    {
     "data": {
      "text/html": [
       "<div>\n",
       "<table border=\"1\" class=\"dataframe\">\n",
       "  <thead>\n",
       "    <tr style=\"text-align: right;\">\n",
       "      <th></th>\n",
       "      <th>id</th>\n",
       "      <th>uuid</th>\n",
       "      <th>caller_number</th>\n",
       "      <th>destination_number</th>\n",
       "      <th>context</th>\n",
       "      <th>start_stamp</th>\n",
       "      <th>end_stamp</th>\n",
       "      <th>duration</th>\n",
       "      <th>billsec</th>\n",
       "      <th>hangup_cause</th>\n",
       "      <th>accountcode</th>\n",
       "      <th>read_codec</th>\n",
       "      <th>user_id</th>\n",
       "    </tr>\n",
       "  </thead>\n",
       "  <tbody>\n",
       "    <tr>\n",
       "      <th>0</th>\n",
       "      <td>1</td>\n",
       "      <td>7a7af69c-29d3-4651-93be-6a0582270955</td>\n",
       "      <td>55500007</td>\n",
       "      <td>55500003</td>\n",
       "      <td>FUTILE</td>\n",
       "      <td>2015-08-25 04:49:00.190694</td>\n",
       "      <td>2015-08-25 04:59:10.190694</td>\n",
       "      <td>610</td>\n",
       "      <td>605</td>\n",
       "      <td>Anwser</td>\n",
       "      <td>Blah</td>\n",
       "      <td>Whoop</td>\n",
       "      <td>3</td>\n",
       "    </tr>\n",
       "  </tbody>\n",
       "</table>\n",
       "</div>"
      ],
      "text/plain": [
       "   id                                  uuid  caller_number  \\\n",
       "0   1  7a7af69c-29d3-4651-93be-6a0582270955       55500007   \n",
       "\n",
       "   destination_number context                 start_stamp  \\\n",
       "0            55500003  FUTILE  2015-08-25 04:49:00.190694   \n",
       "\n",
       "                    end_stamp  duration  billsec hangup_cause accountcode  \\\n",
       "0  2015-08-25 04:59:10.190694       610      605       Anwser        Blah   \n",
       "\n",
       "  read_codec  user_id  \n",
       "0      Whoop        3  "
      ]
     },
     "execution_count": 71,
     "metadata": {},
     "output_type": "execute_result"
    }
   ],
   "source": [
    "# default is 20, back to default \n",
    "pd.set_option('display.max_columns', 20)\n",
    "_cdr.head(1)"
   ]
  },
  {
   "cell_type": "code",
   "execution_count": 131,
   "metadata": {
    "collapsed": false
   },
   "outputs": [
    {
     "data": {
      "text/html": [
       "<div>\n",
       "<table border=\"1\" class=\"dataframe\">\n",
       "  <thead>\n",
       "    <tr style=\"text-align: right;\">\n",
       "      <th></th>\n",
       "      <th>caller_number</th>\n",
       "      <th>destination_number</th>\n",
       "      <th>end_stamp</th>\n",
       "      <th>duration</th>\n",
       "      <th>billsec</th>\n",
       "      <th>hangup_cause</th>\n",
       "      <th>user_id</th>\n",
       "    </tr>\n",
       "    <tr>\n",
       "      <th>start_stamp</th>\n",
       "      <th></th>\n",
       "      <th></th>\n",
       "      <th></th>\n",
       "      <th></th>\n",
       "      <th></th>\n",
       "      <th></th>\n",
       "      <th></th>\n",
       "    </tr>\n",
       "  </thead>\n",
       "  <tbody>\n",
       "    <tr>\n",
       "      <th>2015-08-25 04:49:00.190694</th>\n",
       "      <td>55500007</td>\n",
       "      <td>55500003</td>\n",
       "      <td>2015-08-25 04:59:10.190694</td>\n",
       "      <td>610</td>\n",
       "      <td>605</td>\n",
       "      <td>Anwser</td>\n",
       "      <td>3</td>\n",
       "    </tr>\n",
       "    <tr>\n",
       "      <th>2011-01-11 02:04:09.190694</th>\n",
       "      <td>55500005</td>\n",
       "      <td>55500004</td>\n",
       "      <td>2011-01-11 02:08:29.190694</td>\n",
       "      <td>260</td>\n",
       "      <td>255</td>\n",
       "      <td>Anwser</td>\n",
       "      <td>6</td>\n",
       "    </tr>\n",
       "    <tr>\n",
       "      <th>2014-07-06 20:00:59.190694</th>\n",
       "      <td>55500007</td>\n",
       "      <td>55500006</td>\n",
       "      <td>2014-07-06 20:07:43.190694</td>\n",
       "      <td>404</td>\n",
       "      <td>399</td>\n",
       "      <td>Anwser</td>\n",
       "      <td>5</td>\n",
       "    </tr>\n",
       "  </tbody>\n",
       "</table>\n",
       "</div>"
      ],
      "text/plain": [
       "                           caller_number  destination_number                  end_stamp  duration  billsec hangup_cause  user_id\n",
       "start_stamp                                                                                                                     \n",
       "2015-08-25 04:49:00.190694      55500007            55500003 2015-08-25 04:59:10.190694       610      605       Anwser        3\n",
       "2011-01-11 02:04:09.190694      55500005            55500004 2011-01-11 02:08:29.190694       260      255       Anwser        6\n",
       "2014-07-06 20:00:59.190694      55500007            55500006 2014-07-06 20:07:43.190694       404      399       Anwser        5"
      ]
     },
     "execution_count": 131,
     "metadata": {},
     "output_type": "execute_result"
    }
   ],
   "source": [
    "_cdr = pd.read_csv('cdrs.csv', usecols=['caller_number', 'destination_number', 'start_stamp' ,'end_stamp', 'duration', \n",
    "                                        'billsec', 'hangup_cause', 'user_id'], \n",
    "                               dtype={'caller_number': 'int', 'caller_number': 'str'}, \n",
    "                               index_col='start_stamp', \n",
    "                               parse_dates=['start_stamp', 'end_stamp'])\n",
    "\n",
    "_cdr.head(3)"
   ]
  },
  {
   "cell_type": "markdown",
   "metadata": {},
   "source": [
    "# Merging dataframes"
   ]
  },
  {
   "cell_type": "code",
   "execution_count": 132,
   "metadata": {
    "collapsed": false
   },
   "outputs": [
    {
     "data": {
      "text/html": [
       "<div>\n",
       "<table border=\"1\" class=\"dataframe\">\n",
       "  <thead>\n",
       "    <tr style=\"text-align: right;\">\n",
       "      <th></th>\n",
       "      <th>caller_number</th>\n",
       "      <th>destination_number</th>\n",
       "      <th>end_stamp</th>\n",
       "      <th>duration</th>\n",
       "      <th>billsec</th>\n",
       "      <th>hangup_cause</th>\n",
       "      <th>user_id</th>\n",
       "      <th>id</th>\n",
       "      <th>first_name</th>\n",
       "      <th>last_name</th>\n",
       "      <th>ship</th>\n",
       "      <th>email</th>\n",
       "    </tr>\n",
       "    <tr>\n",
       "      <th>start_stamp</th>\n",
       "      <th></th>\n",
       "      <th></th>\n",
       "      <th></th>\n",
       "      <th></th>\n",
       "      <th></th>\n",
       "      <th></th>\n",
       "      <th></th>\n",
       "      <th></th>\n",
       "      <th></th>\n",
       "      <th></th>\n",
       "      <th></th>\n",
       "      <th></th>\n",
       "    </tr>\n",
       "  </thead>\n",
       "  <tbody>\n",
       "    <tr>\n",
       "      <th>2015-08-25 04:49:00.190694</th>\n",
       "      <td>55500007</td>\n",
       "      <td>55500003</td>\n",
       "      <td>2015-08-25 04:59:10.190694</td>\n",
       "      <td>610</td>\n",
       "      <td>605</td>\n",
       "      <td>Anwser</td>\n",
       "      <td>3</td>\n",
       "      <td>4</td>\n",
       "      <td>B'Elanna</td>\n",
       "      <td>Torres</td>\n",
       "      <td>Voyager</td>\n",
       "      <td>warp.drives.rule@voyager.subspace</td>\n",
       "    </tr>\n",
       "    <tr>\n",
       "      <th>2014-03-13 22:55:18.190694</th>\n",
       "      <td>55500004</td>\n",
       "      <td>55500003</td>\n",
       "      <td>2014-03-13 23:01:21.190694</td>\n",
       "      <td>363</td>\n",
       "      <td>358</td>\n",
       "      <td>Anwser</td>\n",
       "      <td>3</td>\n",
       "      <td>4</td>\n",
       "      <td>B'Elanna</td>\n",
       "      <td>Torres</td>\n",
       "      <td>Voyager</td>\n",
       "      <td>warp.drives.rule@voyager.subspace</td>\n",
       "    </tr>\n",
       "    <tr>\n",
       "      <th>2012-02-08 19:16:16.190694</th>\n",
       "      <td>55500006</td>\n",
       "      <td>55500004</td>\n",
       "      <td>2012-02-08 19:21:06.190694</td>\n",
       "      <td>290</td>\n",
       "      <td>285</td>\n",
       "      <td>Anwser</td>\n",
       "      <td>3</td>\n",
       "      <td>4</td>\n",
       "      <td>B'Elanna</td>\n",
       "      <td>Torres</td>\n",
       "      <td>Voyager</td>\n",
       "      <td>warp.drives.rule@voyager.subspace</td>\n",
       "    </tr>\n",
       "    <tr>\n",
       "      <th>2011-04-01 11:41:41.190694</th>\n",
       "      <td>55500006</td>\n",
       "      <td>55500006</td>\n",
       "      <td>2011-04-01 11:45:19.190694</td>\n",
       "      <td>218</td>\n",
       "      <td>213</td>\n",
       "      <td>Anwser</td>\n",
       "      <td>3</td>\n",
       "      <td>4</td>\n",
       "      <td>B'Elanna</td>\n",
       "      <td>Torres</td>\n",
       "      <td>Voyager</td>\n",
       "      <td>warp.drives.rule@voyager.subspace</td>\n",
       "    </tr>\n",
       "    <tr>\n",
       "      <th>2013-03-05 11:08:42.190694</th>\n",
       "      <td>55500002</td>\n",
       "      <td>55500002</td>\n",
       "      <td>2013-03-05 11:09:17.190694</td>\n",
       "      <td>35</td>\n",
       "      <td>30</td>\n",
       "      <td>Anwser</td>\n",
       "      <td>3</td>\n",
       "      <td>4</td>\n",
       "      <td>B'Elanna</td>\n",
       "      <td>Torres</td>\n",
       "      <td>Voyager</td>\n",
       "      <td>warp.drives.rule@voyager.subspace</td>\n",
       "    </tr>\n",
       "  </tbody>\n",
       "</table>\n",
       "</div>"
      ],
      "text/plain": [
       "                           caller_number  destination_number                  end_stamp  duration  billsec hangup_cause  user_id  id first_name last_name     ship                              email\n",
       "start_stamp                                                                                                                                                                                          \n",
       "2015-08-25 04:49:00.190694      55500007            55500003 2015-08-25 04:59:10.190694       610      605       Anwser        3   4   B'Elanna    Torres  Voyager  warp.drives.rule@voyager.subspace\n",
       "2014-03-13 22:55:18.190694      55500004            55500003 2014-03-13 23:01:21.190694       363      358       Anwser        3   4   B'Elanna    Torres  Voyager  warp.drives.rule@voyager.subspace\n",
       "2012-02-08 19:16:16.190694      55500006            55500004 2012-02-08 19:21:06.190694       290      285       Anwser        3   4   B'Elanna    Torres  Voyager  warp.drives.rule@voyager.subspace\n",
       "2011-04-01 11:41:41.190694      55500006            55500006 2011-04-01 11:45:19.190694       218      213       Anwser        3   4   B'Elanna    Torres  Voyager  warp.drives.rule@voyager.subspace\n",
       "2013-03-05 11:08:42.190694      55500002            55500002 2013-03-05 11:09:17.190694        35       30       Anwser        3   4   B'Elanna    Torres  Voyager  warp.drives.rule@voyager.subspace"
      ]
     },
     "execution_count": 132,
     "metadata": {},
     "output_type": "execute_result"
    }
   ],
   "source": [
    "_cdr = _cdr.merge(users, how='inner', left_on='user_id', right_index=True)\n",
    "_cdr.head(5)"
   ]
  },
  {
   "cell_type": "code",
   "execution_count": 81,
   "metadata": {
    "collapsed": false
   },
   "outputs": [
    {
     "data": {
      "text/plain": [
       "start_stamp\n",
       "2015-08-25 04:49:00.190694    605\n",
       "2014-03-13 22:55:18.190694    358\n",
       "2012-02-08 19:16:16.190694    285\n",
       "2011-04-01 11:41:41.190694    213\n",
       "2013-03-05 11:08:42.190694     30\n",
       "2016-04-01 02:16:18.190694    940\n",
       "2013-03-19 14:58:28.190694    237\n",
       "2012-11-26 23:29:44.190694      0\n",
       "2012-10-05 15:50:10.190694    497\n",
       "2011-04-23 17:43:00.190694    942\n",
       "2014-09-15 05:39:14.190694    307\n",
       "2011-09-10 01:54:45.190694    486\n",
       "Name: billsec, dtype: int64"
      ]
     },
     "execution_count": 81,
     "metadata": {},
     "output_type": "execute_result"
    }
   ],
   "source": [
    "_cdr[:12]['billsec']"
   ]
  },
  {
   "cell_type": "code",
   "execution_count": 87,
   "metadata": {
    "collapsed": false
   },
   "outputs": [
    {
     "data": {
      "text/plain": [
       "497.29899135446686"
      ]
     },
     "execution_count": 87,
     "metadata": {},
     "output_type": "execute_result"
    }
   ],
   "source": [
    "billsec = _cdr['billsec']\n",
    "billsec.mean()"
   ]
  },
  {
   "cell_type": "code",
   "execution_count": 88,
   "metadata": {
    "collapsed": false
   },
   "outputs": [
    {
     "data": {
      "text/plain": [
       "55500006    1230\n",
       "55500002    1229\n",
       "55500001    1200\n",
       "55500004    1195\n",
       "55500005    1192\n",
       "55500003    1164\n",
       "55500007    1118\n",
       "Name: caller_number, dtype: int64"
      ]
     },
     "execution_count": 88,
     "metadata": {},
     "output_type": "execute_result"
    }
   ],
   "source": [
    "_cdr['caller_number'].value_counts()"
   ]
  },
  {
   "cell_type": "code",
   "execution_count": 89,
   "metadata": {
    "collapsed": false
   },
   "outputs": [
    {
     "data": {
      "text/plain": [
       "array(['Anwser', 'No Anwser'], dtype=object)"
      ]
     },
     "execution_count": 89,
     "metadata": {},
     "output_type": "execute_result"
    }
   ],
   "source": [
    "_cdr['hangup_cause'].unique()"
   ]
  },
  {
   "cell_type": "code",
   "execution_count": 98,
   "metadata": {
    "collapsed": false
   },
   "outputs": [
    {
     "data": {
      "text/html": [
       "<div>\n",
       "<table border=\"1\" class=\"dataframe\">\n",
       "  <thead>\n",
       "    <tr style=\"text-align: right;\">\n",
       "      <th></th>\n",
       "      <th>caller_number</th>\n",
       "      <th>destination_number</th>\n",
       "      <th>end_stamp</th>\n",
       "      <th>duration</th>\n",
       "      <th>billsec</th>\n",
       "      <th>user_id</th>\n",
       "      <th>id</th>\n",
       "      <th>first_name</th>\n",
       "      <th>last_name</th>\n",
       "      <th>ship</th>\n",
       "      <th>email</th>\n",
       "    </tr>\n",
       "    <tr>\n",
       "      <th>hangup_cause</th>\n",
       "      <th></th>\n",
       "      <th></th>\n",
       "      <th></th>\n",
       "      <th></th>\n",
       "      <th></th>\n",
       "      <th></th>\n",
       "      <th></th>\n",
       "      <th></th>\n",
       "      <th></th>\n",
       "      <th></th>\n",
       "      <th></th>\n",
       "    </tr>\n",
       "  </thead>\n",
       "  <tbody>\n",
       "    <tr>\n",
       "      <th>Anwser</th>\n",
       "      <td>8278</td>\n",
       "      <td>8278</td>\n",
       "      <td>8278</td>\n",
       "      <td>8278</td>\n",
       "      <td>8278</td>\n",
       "      <td>8278</td>\n",
       "      <td>8278</td>\n",
       "      <td>8278</td>\n",
       "      <td>8278</td>\n",
       "      <td>8278</td>\n",
       "      <td>8278</td>\n",
       "    </tr>\n",
       "    <tr>\n",
       "      <th>No Anwser</th>\n",
       "      <td>50</td>\n",
       "      <td>50</td>\n",
       "      <td>50</td>\n",
       "      <td>50</td>\n",
       "      <td>50</td>\n",
       "      <td>50</td>\n",
       "      <td>50</td>\n",
       "      <td>50</td>\n",
       "      <td>50</td>\n",
       "      <td>50</td>\n",
       "      <td>50</td>\n",
       "    </tr>\n",
       "  </tbody>\n",
       "</table>\n",
       "</div>"
      ],
      "text/plain": [
       "              caller_number  destination_number  end_stamp  duration  billsec  \\\n",
       "hangup_cause                                                                    \n",
       "Anwser                 8278                8278       8278      8278     8278   \n",
       "No Anwser                50                  50         50        50       50   \n",
       "\n",
       "              user_id    id  first_name  last_name  ship  email  \n",
       "hangup_cause                                                     \n",
       "Anwser           8278  8278        8278       8278  8278   8278  \n",
       "No Anwser          50    50          50         50    50     50  "
      ]
     },
     "execution_count": 98,
     "metadata": {},
     "output_type": "execute_result"
    }
   ],
   "source": [
    "_cdr.groupby('hangup_cause').count()"
   ]
  },
  {
   "cell_type": "code",
   "execution_count": 93,
   "metadata": {
    "collapsed": false
   },
   "outputs": [
    {
     "data": {
      "text/plain": [
       "hangup_cause\n",
       "Anwser       8278\n",
       "No Anwser      50\n",
       "Name: user_id, dtype: int64"
      ]
     },
     "execution_count": 93,
     "metadata": {},
     "output_type": "execute_result"
    }
   ],
   "source": [
    "_cdr.groupby('hangup_cause').user_id.count()"
   ]
  },
  {
   "cell_type": "code",
   "execution_count": 105,
   "metadata": {
    "collapsed": false
   },
   "outputs": [
    {
     "data": {
      "text/plain": [
       "start_stamp\n",
       "2015-08-25 04:49:00.190694    False\n",
       "2014-03-13 22:55:18.190694    False\n",
       "2012-02-08 19:16:16.190694    False\n",
       "2011-04-01 11:41:41.190694    False\n",
       "2013-03-05 11:08:42.190694    False\n",
       "2016-04-01 02:16:18.190694    False\n",
       "2013-03-19 14:58:28.190694    False\n",
       "2012-11-26 23:29:44.190694    False\n",
       "2012-10-05 15:50:10.190694    False\n",
       "2011-04-23 17:43:00.190694    False\n",
       "2014-09-15 05:39:14.190694    False\n",
       "2011-09-10 01:54:45.190694    False\n",
       "2015-05-23 11:47:56.190694    False\n",
       "2012-02-24 12:59:48.190694    False\n",
       "2011-11-21 01:54:00.190694    False\n",
       "2013-01-14 13:10:26.190694    False\n",
       "2011-08-18 09:25:37.190694    False\n",
       "2014-04-19 08:19:53.190694    False\n",
       "2015-01-14 11:57:27.190694    False\n",
       "2016-01-01 10:51:21.190694    False\n",
       "2011-05-22 07:38:33.190694    False\n",
       "2014-01-30 07:55:18.190694    False\n",
       "2010-11-04 22:02:57.190694    False\n",
       "2010-12-01 09:16:18.190694    False\n",
       "2016-01-05 13:53:25.190694    False\n",
       "2015-01-19 17:27:05.190694    False\n",
       "2013-05-18 20:57:33.190694    False\n",
       "2015-04-04 06:42:39.190694    False\n",
       "2014-07-13 12:47:44.190694    False\n",
       "2015-04-26 05:50:39.190694    False\n",
       "                              ...  \n",
       "2012-08-15 08:59:04.190694    False\n",
       "2016-06-17 09:50:38.190694    False\n",
       "2016-07-02 01:12:52.190694    False\n",
       "2014-06-24 05:00:07.190694    False\n",
       "2015-06-14 18:44:05.190694    False\n",
       "2011-01-22 00:12:06.190694    False\n",
       "2013-12-24 00:08:42.190694    False\n",
       "2014-12-05 04:31:19.190694    False\n",
       "2013-02-25 17:52:15.190694    False\n",
       "2014-11-24 02:57:11.190694    False\n",
       "2016-06-05 19:11:29.190694    False\n",
       "2013-08-22 09:10:19.190694    False\n",
       "2016-04-28 21:19:44.190694    False\n",
       "2015-07-07 14:04:51.190694    False\n",
       "2012-12-14 18:04:36.190694    False\n",
       "2015-10-17 18:59:58.190694    False\n",
       "2012-01-12 12:52:24.190694    False\n",
       "2014-03-13 02:25:21.190694    False\n",
       "2012-03-20 03:08:08.190694    False\n",
       "2011-04-01 00:59:08.190694    False\n",
       "2013-08-22 03:06:43.190694    False\n",
       "2012-04-26 20:50:40.190694    False\n",
       "2014-01-25 00:16:54.190694    False\n",
       "2013-09-08 03:14:44.190694    False\n",
       "2013-08-01 20:28:48.190694    False\n",
       "2011-04-18 12:59:20.190694    False\n",
       "2010-12-26 13:32:05.190694    False\n",
       "2012-01-03 17:43:37.190694    False\n",
       "2015-10-27 17:13:16.190694    False\n",
       "2013-07-14 07:45:17.190694    False\n",
       "Name: email, dtype: bool"
      ]
     },
     "execution_count": 105,
     "metadata": {},
     "output_type": "execute_result"
    }
   ],
   "source": [
    "_cdr['email'] == 'shut.up.quark@ds9.subspace' "
   ]
  },
  {
   "cell_type": "code",
   "execution_count": 110,
   "metadata": {
    "collapsed": false
   },
   "outputs": [
    {
     "data": {
      "text/html": [
       "<div>\n",
       "<table border=\"1\" class=\"dataframe\">\n",
       "  <thead>\n",
       "    <tr style=\"text-align: right;\">\n",
       "      <th></th>\n",
       "      <th>caller_number</th>\n",
       "      <th>destination_number</th>\n",
       "      <th>end_stamp</th>\n",
       "      <th>duration</th>\n",
       "      <th>billsec</th>\n",
       "      <th>hangup_cause</th>\n",
       "      <th>user_id</th>\n",
       "      <th>id</th>\n",
       "      <th>first_name</th>\n",
       "      <th>last_name</th>\n",
       "      <th>ship</th>\n",
       "      <th>email</th>\n",
       "    </tr>\n",
       "    <tr>\n",
       "      <th>start_stamp</th>\n",
       "      <th></th>\n",
       "      <th></th>\n",
       "      <th></th>\n",
       "      <th></th>\n",
       "      <th></th>\n",
       "      <th></th>\n",
       "      <th></th>\n",
       "      <th></th>\n",
       "      <th></th>\n",
       "      <th></th>\n",
       "      <th></th>\n",
       "      <th></th>\n",
       "    </tr>\n",
       "  </thead>\n",
       "  <tbody>\n",
       "    <tr>\n",
       "      <th>2012-07-25 19:53:46.190694</th>\n",
       "      <td>55500001</td>\n",
       "      <td>55500006</td>\n",
       "      <td>2012-07-25 20:09:27.190694</td>\n",
       "      <td>941</td>\n",
       "      <td>936</td>\n",
       "      <td>Anwser</td>\n",
       "      <td>4</td>\n",
       "      <td>5</td>\n",
       "      <td>Benjamin</td>\n",
       "      <td>Sisko</td>\n",
       "      <td>DS9</td>\n",
       "      <td>shut.up.quark@ds9.subspace</td>\n",
       "    </tr>\n",
       "    <tr>\n",
       "      <th>2015-11-22 05:12:36.190694</th>\n",
       "      <td>55500002</td>\n",
       "      <td>55500003</td>\n",
       "      <td>2015-11-22 05:16:15.190694</td>\n",
       "      <td>219</td>\n",
       "      <td>214</td>\n",
       "      <td>Anwser</td>\n",
       "      <td>4</td>\n",
       "      <td>5</td>\n",
       "      <td>Benjamin</td>\n",
       "      <td>Sisko</td>\n",
       "      <td>DS9</td>\n",
       "      <td>shut.up.quark@ds9.subspace</td>\n",
       "    </tr>\n",
       "  </tbody>\n",
       "</table>\n",
       "</div>"
      ],
      "text/plain": [
       "                           caller_number  destination_number  \\\n",
       "start_stamp                                                    \n",
       "2012-07-25 19:53:46.190694      55500001            55500006   \n",
       "2015-11-22 05:12:36.190694      55500002            55500003   \n",
       "\n",
       "                                            end_stamp  duration  billsec  \\\n",
       "start_stamp                                                                \n",
       "2012-07-25 19:53:46.190694 2012-07-25 20:09:27.190694       941      936   \n",
       "2015-11-22 05:12:36.190694 2015-11-22 05:16:15.190694       219      214   \n",
       "\n",
       "                           hangup_cause  user_id  id first_name last_name  \\\n",
       "start_stamp                                                                 \n",
       "2012-07-25 19:53:46.190694       Anwser        4   5   Benjamin     Sisko   \n",
       "2015-11-22 05:12:36.190694       Anwser        4   5   Benjamin     Sisko   \n",
       "\n",
       "                           ship                       email  \n",
       "start_stamp                                                  \n",
       "2012-07-25 19:53:46.190694  DS9  shut.up.quark@ds9.subspace  \n",
       "2015-11-22 05:12:36.190694  DS9  shut.up.quark@ds9.subspace  "
      ]
     },
     "execution_count": 110,
     "metadata": {},
     "output_type": "execute_result"
    }
   ],
   "source": [
    "ben_cdrs = _cdr[_cdr['email'] == 'shut.up.quark@ds9.subspace']\n",
    "ben_cdrs.head(2)"
   ]
  },
  {
   "cell_type": "code",
   "execution_count": 112,
   "metadata": {
    "collapsed": false
   },
   "outputs": [
    {
     "data": {
      "text/plain": [
       "1672"
      ]
     },
     "execution_count": 112,
     "metadata": {},
     "output_type": "execute_result"
    }
   ],
   "source": [
    "ben_cdrs.caller_number.count()"
   ]
  },
  {
   "cell_type": "code",
   "execution_count": 117,
   "metadata": {
    "collapsed": false
   },
   "outputs": [
    {
     "data": {
      "text/plain": [
       "1665"
      ]
     },
     "execution_count": 117,
     "metadata": {},
     "output_type": "execute_result"
    }
   ],
   "source": [
    "_cdr[(_cdr['email'] == 'shut.up.quark@ds9.subspace') & (_cdr['hangup_cause'] == 'Anwser')].caller_number.count()"
   ]
  },
  {
   "cell_type": "code",
   "execution_count": 116,
   "metadata": {
    "collapsed": false
   },
   "outputs": [
    {
     "data": {
      "text/plain": [
       "7"
      ]
     },
     "execution_count": 116,
     "metadata": {},
     "output_type": "execute_result"
    }
   ],
   "source": [
    "_cdr[(_cdr['email'] == 'shut.up.quark@ds9.subspace') & (_cdr['hangup_cause'] == 'No Anwser')].caller_number.count()"
   ]
  },
  {
   "cell_type": "code",
   "execution_count": 84,
   "metadata": {
    "collapsed": false
   },
   "outputs": [
    {
     "data": {
      "text/html": [
       "<div>\n",
       "<table border=\"1\" class=\"dataframe\">\n",
       "  <thead>\n",
       "    <tr style=\"text-align: right;\">\n",
       "      <th></th>\n",
       "      <th>destination_number</th>\n",
       "      <th>end_stamp</th>\n",
       "      <th>duration</th>\n",
       "      <th>billsec</th>\n",
       "      <th>hangup_cause</th>\n",
       "      <th>user_id</th>\n",
       "      <th>ID</th>\n",
       "      <th>FirstName</th>\n",
       "      <th>LastName</th>\n",
       "      <th>Ship</th>\n",
       "      <th>Email</th>\n",
       "    </tr>\n",
       "    <tr>\n",
       "      <th>caller_number</th>\n",
       "      <th></th>\n",
       "      <th></th>\n",
       "      <th></th>\n",
       "      <th></th>\n",
       "      <th></th>\n",
       "      <th></th>\n",
       "      <th></th>\n",
       "      <th></th>\n",
       "      <th></th>\n",
       "      <th></th>\n",
       "      <th></th>\n",
       "    </tr>\n",
       "  </thead>\n",
       "  <tbody>\n",
       "    <tr>\n",
       "      <th>55500006</th>\n",
       "      <td>1230</td>\n",
       "      <td>1230</td>\n",
       "      <td>1230</td>\n",
       "      <td>1230</td>\n",
       "      <td>1230</td>\n",
       "      <td>1230</td>\n",
       "      <td>1230</td>\n",
       "      <td>1230</td>\n",
       "      <td>1230</td>\n",
       "      <td>1230</td>\n",
       "      <td>1230</td>\n",
       "    </tr>\n",
       "    <tr>\n",
       "      <th>55500002</th>\n",
       "      <td>1229</td>\n",
       "      <td>1229</td>\n",
       "      <td>1229</td>\n",
       "      <td>1229</td>\n",
       "      <td>1229</td>\n",
       "      <td>1229</td>\n",
       "      <td>1229</td>\n",
       "      <td>1229</td>\n",
       "      <td>1229</td>\n",
       "      <td>1229</td>\n",
       "      <td>1229</td>\n",
       "    </tr>\n",
       "    <tr>\n",
       "      <th>55500001</th>\n",
       "      <td>1200</td>\n",
       "      <td>1200</td>\n",
       "      <td>1200</td>\n",
       "      <td>1200</td>\n",
       "      <td>1200</td>\n",
       "      <td>1200</td>\n",
       "      <td>1200</td>\n",
       "      <td>1200</td>\n",
       "      <td>1200</td>\n",
       "      <td>1200</td>\n",
       "      <td>1200</td>\n",
       "    </tr>\n",
       "  </tbody>\n",
       "</table>\n",
       "</div>"
      ],
      "text/plain": [
       "               destination_number  end_stamp  duration  billsec  hangup_cause  \\\n",
       "caller_number                                                                   \n",
       "55500006                     1230       1230      1230     1230          1230   \n",
       "55500002                     1229       1229      1229     1229          1229   \n",
       "55500001                     1200       1200      1200     1200          1200   \n",
       "\n",
       "               user_id    ID  FirstName  LastName  Ship  Email  \n",
       "caller_number                                                   \n",
       "55500006          1230  1230       1230      1230  1230   1230  \n",
       "55500002          1229  1229       1229      1229  1229   1229  \n",
       "55500001          1200  1200       1200      1200  1200   1200  "
      ]
     },
     "execution_count": 84,
     "metadata": {},
     "output_type": "execute_result"
    }
   ],
   "source": [
    "_cdr.groupby('caller_number').count().sort_values('destination_number', ascending=False).head(3)"
   ]
  },
  {
   "cell_type": "markdown",
   "metadata": {},
   "source": [
    "# Plotting\n"
   ]
  },
  {
   "cell_type": "code",
   "execution_count": 120,
   "metadata": {
    "collapsed": false
   },
   "outputs": [],
   "source": [
    "%matplotlib inline\n",
    "\n",
    "import pandas as pd\n",
    "import matplotlib.pyplot as plt\n",
    "import seaborn as sns\n",
    "\n",
    "pd.set_option('display.width', 5000) \n",
    "pd.set_option('display.max_columns', 60)"
   ]
  },
  {
   "cell_type": "code",
   "execution_count": 121,
   "metadata": {
    "collapsed": false
   },
   "outputs": [
    {
     "data": {
      "text/plain": [
       "<matplotlib.axes._subplots.AxesSubplot at 0x1104aa080>"
      ]
     },
     "execution_count": 121,
     "metadata": {},
     "output_type": "execute_result"
    },
    {
     "data": {
      "image/png": "[encoded data removed]",
      "text/plain": [
       "<matplotlib.figure.Figure at 0x113287518>"
      ]
     },
     "metadata": {},
     "output_type": "display_data"
    }
   ],
   "source": [
    "billsec = _cdr[:30]['billsec']\n",
    "billsec.plot(kind='bar')"
   ]
  },
  {
   "cell_type": "code",
   "execution_count": 129,
   "metadata": {
    "collapsed": false
   },
   "outputs": [
    {
     "data": {
      "text/plain": [
       "<matplotlib.axes._subplots.AxesSubplot at 0x114c9b9e8>"
      ]
     },
     "execution_count": 129,
     "metadata": {},
     "output_type": "execute_result"
    },
    {
     "data": {
      "image/png": "[encoded data removed]",
      "text/plain": [
       "<matplotlib.figure.Figure at 0x114acd828>"
      ]
     },
     "metadata": {},
     "output_type": "display_data"
    }
   ],
   "source": [
    "import matplotlib.pyplot as plt_cdr[_cdr['email'] == 'reading.rainbow@enterprise.subspace'][:10].billsec.plot(kind='barh')"
   ]
  },
  {
   "cell_type": "code",
   "execution_count": 158,
   "metadata": {
    "collapsed": false
   },
   "outputs": [
    {
     "data": {
      "text/plain": [
       "<matplotlib.axes._subplots.AxesSubplot at 0x11911b9e8>"
      ]
     },
     "execution_count": 158,
     "metadata": {},
     "output_type": "execute_result"
    },
    {
     "data": {
      "image/png": "[encoded data removed]",
      "text/plain": [
       "<matplotlib.figure.Figure at 0x10e360a20>"
      ]
     },
     "metadata": {},
     "output_type": "display_data"
    }
   ],
   "source": [
    "_cdr['user_id'].value_counts().plot()"
   ]
  },
  {
   "cell_type": "code",
   "execution_count": 159,
   "metadata": {
    "collapsed": false
   },
   "outputs": [
    {
     "data": {
      "text/plain": [
       "<matplotlib.axes._subplots.AxesSubplot at 0x119225f60>"
      ]
     },
     "execution_count": 159,
     "metadata": {},
     "output_type": "execute_result"
    },
    {
     "data": {
      "image/png": "[encoded data removed]",
      "text/plain": [
       "<matplotlib.figure.Figure at 0x1192a52e8>"
      ]
     },
     "metadata": {},
     "output_type": "display_data"
    }
   ],
   "source": [
    "_cdr['user_id'].value_counts().plot(kind='pie')"
   ]
  }
 ],
 "metadata": {
  "kernelspec": {
   "display_name": "Python 3",
   "language": "python",
   "name": "python3"
  },
  "language_info": {
   "codemirror_mode": {
    "name": "ipython",
    "version": 3
   },
   "file_extension": ".py",
   "mimetype": "text/x-python",
   "name": "python",
   "nbconvert_exporter": "python",
   "pygments_lexer": "ipython3",
   "version": "3.5.2"
  }
 },
 "nbformat": 4,
 "nbformat_minor": 0
}
